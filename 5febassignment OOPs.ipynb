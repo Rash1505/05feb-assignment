{
 "cells": [
  {
   "cell_type": "markdown",
   "id": "db3427bc-4aed-4fa0-a798-297a9ee74aa1",
   "metadata": {},
   "source": [
    "Q1. Explain class and Object with respect to Object-Oriented Programming. Give a suitable example."
   ]
  },
  {
   "cell_type": "markdown",
   "id": "4b56e090-3c73-4689-bf65-387d8cd9a43f",
   "metadata": {},
   "source": [
    "Class is a blueprint of object and Object is variable or instance"
   ]
  },
  {
   "cell_type": "code",
   "execution_count": 1,
   "id": "3ea6935e-5d67-4b9f-842d-fc50321ae0a5",
   "metadata": {},
   "outputs": [],
   "source": [
    "#example:\n",
    "class pwskills():\n",
    "    def welcome_msg(self):\n",
    "        print('welcome to pwskills') "
   ]
  },
  {
   "cell_type": "markdown",
   "id": "8028d016-0e94-4a18-9b39-ab4366f4411c",
   "metadata": {},
   "source": [
    "Q2. Name the four pillars of OOPs."
   ]
  },
  {
   "cell_type": "markdown",
   "id": "ee0d4667-3793-4944-92c5-4108ce6365d5",
   "metadata": {},
   "source": [
    "1) Polymorphism\n",
    "2) Encapsulaion\n",
    "3) Inheritance\n",
    "4) Abstraction"
   ]
  },
  {
   "cell_type": "markdown",
   "id": "0e2ed9cb-56e3-411d-a063-59349479b538",
   "metadata": {},
   "source": [
    "Q3.Explain why the __init__() function is used. Give a suitable example."
   ]
  },
  {
   "cell_type": "markdown",
   "id": "54d7ba3f-beeb-4d39-95a9-714cd62e3118",
   "metadata": {},
   "source": [
    "the __init__() is known as constructor. it is used when object is created from the class, and access is required to initialize the attributes\n",
    "of the class."
   ]
  },
  {
   "cell_type": "code",
   "execution_count": 2,
   "id": "5d771d1c-bd35-42be-ad40-5069c4cf0e61",
   "metadata": {},
   "outputs": [],
   "source": [
    "#example\n",
    "\n",
    "class pwskills():\n",
    "    def __init__(self,email_id,student_id):\n",
    "        self.email_id=email_id\n",
    "        self.student_id=student_id\n",
    "    def return_student_details(self):\n",
    "        return self.email_id, self.email_id\n",
    "        "
   ]
  },
  {
   "cell_type": "markdown",
   "id": "eb73d825-5eef-4a4c-9b08-4da578a6a7b7",
   "metadata": {},
   "source": [
    "Q4. Why self is used in OOPs?"
   ]
  },
  {
   "cell_type": "markdown",
   "id": "961c0230-75fb-4a8d-b83d-510cb9bf2784",
   "metadata": {},
   "source": [
    "self variable is used to represent the instance of the class. It works as a reference to the object.the self parameter\n",
    "doesn't have to be named 'self' as it can call by any other name."
   ]
  },
  {
   "cell_type": "markdown",
   "id": "f6a659e2-c7de-48d0-a50a-68915556c1b3",
   "metadata": {},
   "source": [
    "Q5. what is inheritance? Given an exmaple for each type of inhertance."
   ]
  },
  {
   "cell_type": "markdown",
   "id": "a7db56ae-5580-4fea-bcb3-fa52561c685f",
   "metadata": {},
   "source": [
    "the child class which is inherit properties and method from the parent class is called \n",
    " as inheritance"
   ]
  },
  {
   "cell_type": "markdown",
   "id": "23df9d43-0371-4b7e-9dcb-e81ebf31e4a6",
   "metadata": {},
   "source": [
    " example of Multiple inheritance\n",
    "\n"
   ]
  },
  {
   "cell_type": "code",
   "execution_count": 1,
   "id": "c80b0efa-d384-4d36-981c-7a1a9592c6f2",
   "metadata": {},
   "outputs": [],
   "source": [
    "class class1:\n",
    "    \n",
    "    def test_class1(self):\n",
    "        return 'this is my class1'"
   ]
  },
  {
   "cell_type": "code",
   "execution_count": 2,
   "id": "d3ec10ed-ab2a-4242-b0cf-b4ed5fbdbcb9",
   "metadata": {},
   "outputs": [],
   "source": [
    "class class2:\n",
    "    \n",
    "    def test_class2(self):\n",
    "        return 'this is my class2'"
   ]
  },
  {
   "cell_type": "code",
   "execution_count": 3,
   "id": "c8e2a21a-41eb-41b5-89c1-d48a583d99de",
   "metadata": {},
   "outputs": [],
   "source": [
    "class class3(class1, class2):\n",
    "    pass"
   ]
  },
  {
   "cell_type": "code",
   "execution_count": 4,
   "id": "f15d5e74-a722-45ab-abfd-0f35ebd0173e",
   "metadata": {},
   "outputs": [],
   "source": [
    "obj_class3 = class3()"
   ]
  },
  {
   "cell_type": "code",
   "execution_count": 5,
   "id": "180d5cf4-85c6-490d-8f7d-6d0333e09c5b",
   "metadata": {},
   "outputs": [
    {
     "data": {
      "text/plain": [
       "'this is my class1'"
      ]
     },
     "execution_count": 5,
     "metadata": {},
     "output_type": "execute_result"
    }
   ],
   "source": [
    "obj_class3.test_class1()"
   ]
  },
  {
   "cell_type": "code",
   "execution_count": 6,
   "id": "69b7d943-b375-4288-96f7-28827c6a1561",
   "metadata": {},
   "outputs": [
    {
     "data": {
      "text/plain": [
       "'this is my class2'"
      ]
     },
     "execution_count": 6,
     "metadata": {},
     "output_type": "execute_result"
    }
   ],
   "source": [
    "obj_class3.test_class2()"
   ]
  },
  {
   "cell_type": "markdown",
   "id": "c70779ae-45bb-4c01-959a-e965a4fbc379",
   "metadata": {},
   "source": [
    "example of multilabe inheritance"
   ]
  },
  {
   "cell_type": "code",
   "execution_count": null,
   "id": "cbd49237-cc38-46f0-afcb-2c8762fecacf",
   "metadata": {},
   "outputs": [],
   "source": [
    "class class1:\n",
    "    \n",
    "    def test_class1(self):\n",
    "        return 'this is class 1'"
   ]
  },
  {
   "cell_type": "code",
   "execution_count": null,
   "id": "5898ab9a-401e-443c-baf1-04e5219e90df",
   "metadata": {},
   "outputs": [],
   "source": [
    "class class2:\n",
    "    \n",
    "    def test_class2(self):\n",
    "        return 'this is class 2'"
   ]
  },
  {
   "cell_type": "code",
   "execution_count": null,
   "id": "2705e8f5-0971-4e4d-a7fc-93c5c7bfd4a1",
   "metadata": {},
   "outputs": [],
   "source": [
    "class class3:\n",
    "    pass"
   ]
  },
  {
   "cell_type": "code",
   "execution_count": null,
   "id": "d9e079ce-1f6c-4026-82b4-6ce69f451471",
   "metadata": {},
   "outputs": [],
   "source": [
    "obj_class3 = class3()"
   ]
  },
  {
   "cell_type": "code",
   "execution_count": 7,
   "id": "a10a98cd-7606-47bd-a73e-74c76814ac54",
   "metadata": {},
   "outputs": [
    {
     "data": {
      "text/plain": [
       "'this is my class1'"
      ]
     },
     "execution_count": 7,
     "metadata": {},
     "output_type": "execute_result"
    }
   ],
   "source": [
    "obj_class3.test_class1()"
   ]
  },
  {
   "cell_type": "code",
   "execution_count": 8,
   "id": "41c51a88-e615-4759-90c9-49f1c7f9482d",
   "metadata": {},
   "outputs": [
    {
     "data": {
      "text/plain": [
       "'this is my class2'"
      ]
     },
     "execution_count": 8,
     "metadata": {},
     "output_type": "execute_result"
    }
   ],
   "source": [
    "obj_class3.test_class2()"
   ]
  },
  {
   "cell_type": "code",
   "execution_count": null,
   "id": "aedcc2bb-72c1-46c5-9b29-c45fd1064e27",
   "metadata": {},
   "outputs": [],
   "source": []
  }
 ],
 "metadata": {
  "kernelspec": {
   "display_name": "Python 3 (ipykernel)",
   "language": "python",
   "name": "python3"
  },
  "language_info": {
   "codemirror_mode": {
    "name": "ipython",
    "version": 3
   },
   "file_extension": ".py",
   "mimetype": "text/x-python",
   "name": "python",
   "nbconvert_exporter": "python",
   "pygments_lexer": "ipython3",
   "version": "3.10.8"
  }
 },
 "nbformat": 4,
 "nbformat_minor": 5
}
